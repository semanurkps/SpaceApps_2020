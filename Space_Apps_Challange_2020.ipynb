{
 "cells": [
  {
   "cell_type": "code",
   "execution_count": 1,
   "metadata": {},
   "outputs": [],
   "source": [
    "import numpy as np\n",
    "import pandas as pd\n",
    "import seaborn as sns \n",
    "import matplotlib.pyplot as plt"
   ]
  },
  {
   "cell_type": "code",
   "execution_count": 2,
   "metadata": {},
   "outputs": [
    {
     "data": {
      "text/html": [
       "<div>\n",
       "<style scoped>\n",
       "    .dataframe tbody tr th:only-of-type {\n",
       "        vertical-align: middle;\n",
       "    }\n",
       "\n",
       "    .dataframe tbody tr th {\n",
       "        vertical-align: top;\n",
       "    }\n",
       "\n",
       "    .dataframe thead th {\n",
       "        text-align: right;\n",
       "    }\n",
       "</style>\n",
       "<table border=\"1\" class=\"dataframe\">\n",
       "  <thead>\n",
       "    <tr style=\"text-align: right;\">\n",
       "      <th></th>\n",
       "      <th>Country</th>\n",
       "      <th>GDP</th>\n",
       "      <th>Trade</th>\n",
       "      <th>Total_Population</th>\n",
       "      <th>Rural_Population</th>\n",
       "    </tr>\n",
       "  </thead>\n",
       "  <tbody>\n",
       "    <tr>\n",
       "      <th>0</th>\n",
       "      <td>Afghanistan</td>\n",
       "      <td>524.162881</td>\n",
       "      <td>37172386.0</td>\n",
       "      <td>27695286.0</td>\n",
       "      <td>49.235892</td>\n",
       "    </tr>\n",
       "    <tr>\n",
       "      <th>1</th>\n",
       "      <td>Albania</td>\n",
       "      <td>5284.380184</td>\n",
       "      <td>2866376.0</td>\n",
       "      <td>1137407.0</td>\n",
       "      <td>76.801047</td>\n",
       "    </tr>\n",
       "    <tr>\n",
       "      <th>2</th>\n",
       "      <td>Algeria</td>\n",
       "      <td>4114.715061</td>\n",
       "      <td>42228429.0</td>\n",
       "      <td>11558343.0</td>\n",
       "      <td>57.964569</td>\n",
       "    </tr>\n",
       "    <tr>\n",
       "      <th>3</th>\n",
       "      <td>American Samoa</td>\n",
       "      <td>11466.690706</td>\n",
       "      <td>55465.0</td>\n",
       "      <td>7126.0</td>\n",
       "      <td>168.238994</td>\n",
       "    </tr>\n",
       "    <tr>\n",
       "      <th>4</th>\n",
       "      <td>Andorra</td>\n",
       "      <td>41793.055258</td>\n",
       "      <td>77006.0</td>\n",
       "      <td>9193.0</td>\n",
       "      <td>0.000000</td>\n",
       "    </tr>\n",
       "  </tbody>\n",
       "</table>\n",
       "</div>"
      ],
      "text/plain": [
       "          Country           GDP       Trade  Total_Population  \\\n",
       "0     Afghanistan    524.162881  37172386.0        27695286.0   \n",
       "1         Albania   5284.380184   2866376.0         1137407.0   \n",
       "2         Algeria   4114.715061  42228429.0        11558343.0   \n",
       "3  American Samoa  11466.690706     55465.0            7126.0   \n",
       "4         Andorra  41793.055258     77006.0            9193.0   \n",
       "\n",
       "   Rural_Population  \n",
       "0         49.235892  \n",
       "1         76.801047  \n",
       "2         57.964569  \n",
       "3        168.238994  \n",
       "4          0.000000  "
      ]
     },
     "execution_count": 2,
     "metadata": {},
     "output_type": "execute_result"
    }
   ],
   "source": [
    "df = pd.read_excel(\"data.xlsx\")\n",
    "df = df.rename(columns = {\"country\" : \"Country\",\n",
    "                          \"GDP per capita (current US$)\" : \"GDP\",\n",
    "                          \"Trade (% of GDP)\" : \"Trade\",\n",
    "                          \"Population, total\" : \"Total_Population\",\n",
    "                          \"Rural population\" : \"Rural_Population\"})\n",
    "df.head()"
   ]
  },
  {
   "cell_type": "code",
   "execution_count": 3,
   "metadata": {},
   "outputs": [
    {
     "data": {
      "text/plain": [
       "Country             0\n",
       "GDP                 0\n",
       "Trade               0\n",
       "Total_Population    0\n",
       "Rural_Population    0\n",
       "dtype: int64"
      ]
     },
     "execution_count": 3,
     "metadata": {},
     "output_type": "execute_result"
    }
   ],
   "source": [
    "df.isnull().sum()"
   ]
  },
  {
   "cell_type": "code",
   "execution_count": 4,
   "metadata": {},
   "outputs": [
    {
     "data": {
      "text/html": [
       "<div>\n",
       "<style scoped>\n",
       "    .dataframe tbody tr th:only-of-type {\n",
       "        vertical-align: middle;\n",
       "    }\n",
       "\n",
       "    .dataframe tbody tr th {\n",
       "        vertical-align: top;\n",
       "    }\n",
       "\n",
       "    .dataframe thead th {\n",
       "        text-align: right;\n",
       "    }\n",
       "</style>\n",
       "<table border=\"1\" class=\"dataframe\">\n",
       "  <thead>\n",
       "    <tr style=\"text-align: right;\">\n",
       "      <th></th>\n",
       "      <th>country</th>\n",
       "      <th>co2</th>\n",
       "    </tr>\n",
       "  </thead>\n",
       "  <tbody>\n",
       "    <tr>\n",
       "      <th>0</th>\n",
       "      <td>Afghanistan</td>\n",
       "      <td>9.439</td>\n",
       "    </tr>\n",
       "    <tr>\n",
       "      <th>1</th>\n",
       "      <td>Africa</td>\n",
       "      <td>1400.841</td>\n",
       "    </tr>\n",
       "    <tr>\n",
       "      <th>2</th>\n",
       "      <td>Albania</td>\n",
       "      <td>4.570</td>\n",
       "    </tr>\n",
       "    <tr>\n",
       "      <th>3</th>\n",
       "      <td>Algeria</td>\n",
       "      <td>155.725</td>\n",
       "    </tr>\n",
       "    <tr>\n",
       "      <th>4</th>\n",
       "      <td>Andorra</td>\n",
       "      <td>0.471</td>\n",
       "    </tr>\n",
       "  </tbody>\n",
       "</table>\n",
       "</div>"
      ],
      "text/plain": [
       "       country       co2\n",
       "0  Afghanistan     9.439\n",
       "1       Africa  1400.841\n",
       "2      Albania     4.570\n",
       "3      Algeria   155.725\n",
       "4      Andorra     0.471"
      ]
     },
     "execution_count": 4,
     "metadata": {},
     "output_type": "execute_result"
    }
   ],
   "source": [
    "owid = pd.read_csv(\"owid-co2-data.csv\")\n",
    "\n",
    "df_filtered = owid[(owid[\"year\"] == 2018)]\n",
    "\n",
    "co2 = df_filtered[[\"country\",\"co2\"]]\n",
    "co2 = co2.reset_index()\n",
    "\n",
    "del co2[\"index\"]\n",
    "\n",
    "co2.head()"
   ]
  },
  {
   "cell_type": "code",
   "execution_count": 5,
   "metadata": {},
   "outputs": [
    {
     "data": {
      "text/plain": [
       "country    0\n",
       "co2        0\n",
       "dtype: int64"
      ]
     },
     "execution_count": 5,
     "metadata": {},
     "output_type": "execute_result"
    }
   ],
   "source": [
    "co2.isnull().sum()"
   ]
  },
  {
   "cell_type": "code",
   "execution_count": 6,
   "metadata": {},
   "outputs": [
    {
     "data": {
      "text/html": [
       "<div>\n",
       "<style scoped>\n",
       "    .dataframe tbody tr th:only-of-type {\n",
       "        vertical-align: middle;\n",
       "    }\n",
       "\n",
       "    .dataframe tbody tr th {\n",
       "        vertical-align: top;\n",
       "    }\n",
       "\n",
       "    .dataframe thead th {\n",
       "        text-align: right;\n",
       "    }\n",
       "</style>\n",
       "<table border=\"1\" class=\"dataframe\">\n",
       "  <thead>\n",
       "    <tr style=\"text-align: right;\">\n",
       "      <th></th>\n",
       "      <th>GDP</th>\n",
       "      <th>Trade</th>\n",
       "      <th>Total_Population</th>\n",
       "      <th>Rural_Population</th>\n",
       "      <th>co2</th>\n",
       "    </tr>\n",
       "  </thead>\n",
       "  <tbody>\n",
       "    <tr>\n",
       "      <th>0</th>\n",
       "      <td>524.162881</td>\n",
       "      <td>37172386.0</td>\n",
       "      <td>27695286.0</td>\n",
       "      <td>49.235892</td>\n",
       "      <td>9.439</td>\n",
       "    </tr>\n",
       "    <tr>\n",
       "      <th>1</th>\n",
       "      <td>5284.380184</td>\n",
       "      <td>2866376.0</td>\n",
       "      <td>1137407.0</td>\n",
       "      <td>76.801047</td>\n",
       "      <td>4.570</td>\n",
       "    </tr>\n",
       "    <tr>\n",
       "      <th>2</th>\n",
       "      <td>4114.715061</td>\n",
       "      <td>42228429.0</td>\n",
       "      <td>11558343.0</td>\n",
       "      <td>57.964569</td>\n",
       "      <td>155.725</td>\n",
       "    </tr>\n",
       "    <tr>\n",
       "      <th>3</th>\n",
       "      <td>41793.055258</td>\n",
       "      <td>77006.0</td>\n",
       "      <td>9193.0</td>\n",
       "      <td>0.000000</td>\n",
       "      <td>0.471</td>\n",
       "    </tr>\n",
       "    <tr>\n",
       "      <th>4</th>\n",
       "      <td>3289.646664</td>\n",
       "      <td>30809762.0</td>\n",
       "      <td>10625055.0</td>\n",
       "      <td>66.378012</td>\n",
       "      <td>34.537</td>\n",
       "    </tr>\n",
       "  </tbody>\n",
       "</table>\n",
       "</div>"
      ],
      "text/plain": [
       "            GDP       Trade  Total_Population  Rural_Population      co2\n",
       "0    524.162881  37172386.0        27695286.0         49.235892    9.439\n",
       "1   5284.380184   2866376.0         1137407.0         76.801047    4.570\n",
       "2   4114.715061  42228429.0        11558343.0         57.964569  155.725\n",
       "3  41793.055258     77006.0            9193.0          0.000000    0.471\n",
       "4   3289.646664  30809762.0        10625055.0         66.378012   34.537"
      ]
     },
     "execution_count": 6,
     "metadata": {},
     "output_type": "execute_result"
    }
   ],
   "source": [
    "main_df = pd.concat([df.set_index('Country'), co2.set_index('country')], axis = 1)\n",
    "main_df = main_df.dropna(axis = 0, how = \"any\")\n",
    "main_df = main_df.reset_index()\n",
    "\n",
    "del main_df[\"index\"]\n",
    "\n",
    "main_df.head()"
   ]
  },
  {
   "cell_type": "code",
   "execution_count": 7,
   "metadata": {},
   "outputs": [
    {
     "name": "stdout",
     "output_type": "stream",
     "text": [
      "<class 'pandas.core.frame.DataFrame'>\n",
      "RangeIndex: 177 entries, 0 to 176\n",
      "Data columns (total 5 columns):\n",
      " #   Column            Non-Null Count  Dtype  \n",
      "---  ------            --------------  -----  \n",
      " 0   GDP               177 non-null    float64\n",
      " 1   Trade             177 non-null    float64\n",
      " 2   Total_Population  177 non-null    float64\n",
      " 3   Rural_Population  177 non-null    float64\n",
      " 4   co2               177 non-null    float64\n",
      "dtypes: float64(5)\n",
      "memory usage: 7.0 KB\n"
     ]
    }
   ],
   "source": [
    "main_df.info()"
   ]
  },
  {
   "cell_type": "code",
   "execution_count": 8,
   "metadata": {},
   "outputs": [
    {
     "data": {
      "image/png": "[encoded data removed]",
      "text/plain": [
       "<Figure size 432x288 with 1 Axes>"
      ]
     },
     "metadata": {
      "needs_background": "light"
     },
     "output_type": "display_data"
    }
   ],
   "source": [
    "sns.boxplot(x = main_df[\"GDP\"]);"
   ]
  },
  {
   "cell_type": "code",
   "execution_count": 9,
   "metadata": {},
   "outputs": [
    {
     "data": {
      "image/png": "[encoded data removed]",
      "text/plain": [
       "<Figure size 432x288 with 1 Axes>"
      ]
     },
     "metadata": {
      "needs_background": "light"
     },
     "output_type": "display_data"
    }
   ],
   "source": [
    "sns.boxplot(x = main_df[\"Rural_Population\"]);"
   ]
  },
  {
   "cell_type": "code",
   "execution_count": 10,
   "metadata": {},
   "outputs": [
    {
     "data": {
      "text/plain": [
       "0      9.439\n",
       "1      4.570\n",
       "2    155.725\n",
       "3      0.471\n",
       "4     34.537\n",
       "Name: co2, dtype: float64"
      ]
     },
     "execution_count": 10,
     "metadata": {},
     "output_type": "execute_result"
    }
   ],
   "source": [
    "co2 = main_df[\"co2\"]\n",
    "\n",
    "del main_df[\"co2\"]\n",
    "\n",
    "co2.head()"
   ]
  },
  {
   "cell_type": "code",
   "execution_count": 11,
   "metadata": {},
   "outputs": [],
   "source": [
    "from sklearn.model_selection import train_test_split\n",
    "\n",
    "x_train, x_test, y_train, y_test = train_test_split(main_df, co2, test_size = 0.33)\n",
    "\n",
    "from sklearn.ensemble import GradientBoostingRegressor\n",
    "\n",
    "gbm = GradientBoostingRegressor()\n",
    "gbm.fit(x_train, y_train)\n",
    "\n",
    "y_pred = gbm.predict(x_test)"
   ]
  },
  {
   "cell_type": "code",
   "execution_count": 12,
   "metadata": {},
   "outputs": [
    {
     "data": {
      "text/plain": [
       "974.2642115854882"
      ]
     },
     "execution_count": 12,
     "metadata": {},
     "output_type": "execute_result"
    }
   ],
   "source": [
    "from sklearn.metrics import mean_squared_error\n",
    "\n",
    "np.sqrt(mean_squared_error(y_test, y_pred))"
   ]
  },
  {
   "cell_type": "code",
   "execution_count": 13,
   "metadata": {},
   "outputs": [
    {
     "data": {
      "text/plain": [
       "633.7803678784837"
      ]
     },
     "execution_count": 13,
     "metadata": {},
     "output_type": "execute_result"
    }
   ],
   "source": [
    "gbmtun = GradientBoostingRegressor(learning_rate = 1,\n",
    "                                   loss = \"lad\",\n",
    "                                   max_depth = 3,\n",
    "                                   n_estimators = 75).fit(x_train, y_train)\n",
    "\n",
    "y_pred2 = gbmtun.predict(x_test)\n",
    "\n",
    "np.sqrt(mean_squared_error(y_test, y_pred2))"
   ]
  },
  {
   "cell_type": "code",
   "execution_count": 14,
   "metadata": {},
   "outputs": [
    {
     "data": {
      "image/png": "[encoded data removed]",
      "text/plain": [
       "<Figure size 432x288 with 1 Axes>"
      ]
     },
     "metadata": {
      "needs_background": "light"
     },
     "output_type": "display_data"
    }
   ],
   "source": [
    "plt.plot(y_test, y_pred);"
   ]
  },
  {
   "cell_type": "code",
   "execution_count": 15,
   "metadata": {},
   "outputs": [
    {
     "data": {
      "image/png": "[encoded data removed]",
      "text/plain": [
       "<Figure size 432x288 with 1 Axes>"
      ]
     },
     "metadata": {
      "needs_background": "light"
     },
     "output_type": "display_data"
    }
   ],
   "source": [
    "plt.plot(y_test, y_pred2);"
   ]
  },
  {
   "cell_type": "code",
   "execution_count": 17,
   "metadata": {},
   "outputs": [
    {
     "data": {
      "text/plain": [
       "913.4911847886923"
      ]
     },
     "execution_count": 17,
     "metadata": {},
     "output_type": "execute_result"
    }
   ],
   "source": [
    "from xgboost import XGBRegressor\n",
    "\n",
    "xgb = XGBRegressor(colsample_bytree = 0.5,\n",
    "                   learning_rate = 0.05,\n",
    "                   max_depth = 1,\n",
    "                   n_estimators = 50).fit(x_train, y_train)\n",
    "\n",
    "y_pred3 = xgb.predict(x_test)\n",
    "\n",
    "np.sqrt(mean_squared_error(y_test,y_pred3))"
   ]
  },
  {
   "cell_type": "code",
   "execution_count": 18,
   "metadata": {},
   "outputs": [
    {
     "name": "stdout",
     "output_type": "stream",
     "text": [
      "k = k, için hatalar karesi ortalaması değeri =  978.3869362623083\n",
      "k = k, için hatalar karesi ortalaması değeri =  726.0226615335403\n",
      "k = k, için hatalar karesi ortalaması değeri =  694.0602866768186\n",
      "k = k, için hatalar karesi ortalaması değeri =  829.3227118484442\n",
      "k = k, için hatalar karesi ortalaması değeri =  921.67066942693\n",
      "k = k, için hatalar karesi ortalaması değeri =  985.0652816713385\n",
      "k = k, için hatalar karesi ortalaması değeri =  1035.417612785145\n",
      "k = k, için hatalar karesi ortalaması değeri =  1068.9547224743092\n",
      "k = k, için hatalar karesi ortalaması değeri =  1094.4949718774003\n",
      "k = k, için hatalar karesi ortalaması değeri =  1111.6063113743219\n"
     ]
    }
   ],
   "source": [
    "from sklearn.neighbors import KNeighborsRegressor\n",
    "\n",
    "HKO  = []\n",
    "\n",
    "for k in range(10):\n",
    "    k = k+1\n",
    "    knn_model = KNeighborsRegressor(n_neighbors = k).fit(x_train, y_train)\n",
    "    y_pred4 = knn_model.predict(x_test)\n",
    "    rmse = np.sqrt(mean_squared_error(y_test, y_pred4))\n",
    "    HKO.append(rmse)\n",
    "    print(\"k =\", \"k, için hatalar karesi ortalaması değeri = \", rmse)"
   ]
  },
  {
   "cell_type": "code",
   "execution_count": null,
   "metadata": {},
   "outputs": [],
   "source": []
  }
 ],
 "metadata": {
  "kernelspec": {
   "display_name": "Python 3",
   "language": "python",
   "name": "python3"
  },
  "language_info": {
   "codemirror_mode": {
    "name": "ipython",
    "version": 3
   },
   "file_extension": ".py",
   "mimetype": "text/x-python",
   "name": "python",
   "nbconvert_exporter": "python",
   "pygments_lexer": "ipython3",
   "version": "3.8.3"
  }
 },
 "nbformat": 4,
 "nbformat_minor": 4
}
